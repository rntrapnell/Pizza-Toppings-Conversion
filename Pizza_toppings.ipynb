{
  "nbformat": 4,
  "nbformat_minor": 0,
  "metadata": {
    "colab": {
      "name": "Pizza toppings.ipynb",
      "provenance": [],
      "mount_file_id": "1dUFpeJMpD1xhXvR08syULlnQtYpCgXXS",
      "authorship_tag": "ABX9TyP+72xxYP28sA0y9as5k2Bd",
      "include_colab_link": true
    },
    "kernelspec": {
      "name": "python3",
      "display_name": "Python 3"
    }
  },
  "cells": [
    {
      "cell_type": "markdown",
      "metadata": {
        "id": "view-in-github",
        "colab_type": "text"
      },
      "source": [
        "<a href=\"https://colab.research.google.com/github/rntrapnell/Pizza-Toppings-Conversion/blob/master/Pizza_toppings.ipynb\" target=\"_parent\"><img src=\"https://colab.research.google.com/assets/colab-badge.svg\" alt=\"Open In Colab\"/></a>"
      ]
    },
    {
      "cell_type": "code",
      "metadata": {
        "id": "fixG73j5Kf9a",
        "colab_type": "code",
        "colab": {}
      },
      "source": [
        "import pandas as pd\n"
      ],
      "execution_count": 0,
      "outputs": []
    },
    {
      "cell_type": "code",
      "metadata": {
        "id": "dKNOZdZXYVcg",
        "colab_type": "code",
        "colab": {}
      },
      "source": [
        "pineapple = pd.read_excel('/content/drive/My Drive/Pineapple specific.xlsx', header =[0,1])\n",
        "pick = pd.read_excel('/content/drive/My Drive/Liked toppings.xlsx', header =[0,1])\n",
        "ban = pd.read_excel('/content/drive/My Drive/Ban toppings.xlsx', header =[0,1])"
      ],
      "execution_count": 0,
      "outputs": []
    },
    {
      "cell_type": "code",
      "metadata": {
        "id": "XmM1NoVrBswM",
        "colab_type": "code",
        "colab": {}
      },
      "source": [
        "pineapple_starting_indexes = [('Unnamed: 0_level_0', 'Question'),('Unnamed: 1_level_0', 'Response')]\n",
        "pineapple_new_indexes = ['Question', 'Response']\n",
        "pineapple_total_column = 'Unnamed: 2_level_0'\n",
        "\n",
        "pick_ban_starting_index = ('Unnamed: 0_level_0', 'Response')\n",
        "pick_ban_new_index = ['Response']\n",
        "pick_ban_total_column = 'Unnamed: 1_level_0'"
      ],
      "execution_count": 0,
      "outputs": []
    },
    {
      "cell_type": "code",
      "metadata": {
        "id": "evxSdEBmBAo6",
        "colab_type": "code",
        "colab": {}
      },
      "source": [
        "def fix_columns(df, starting_indexes, new_indexes, total_column):\n",
        "  df.set_index(starting_indexes, inplace=True)\n",
        "  df.index.names = new_indexes\n",
        "  df.reset_index(inplace=True)\n",
        "  df.rename(columns={total_column: 'Total'}, inplace=True)\n",
        "  return df"
      ],
      "execution_count": 0,
      "outputs": []
    },
    {
      "cell_type": "code",
      "metadata": {
        "id": "3NGxRsCJxVhT",
        "colab_type": "code",
        "colab": {}
      },
      "source": [
        "pineapple_fixed_columns = fix_columns(pineapple, pineapple_starting_indexes, pineapple_new_indexes, pineapple_total_column)\n",
        "pick_fixed_columns = fix_columns(pick, pick_ban_starting_index, pick_ban_new_index, pick_ban_total_column)\n",
        "ban_fixed_columns = fix_columns(ban, pick_ban_starting_index, pick_ban_new_index, pick_ban_total_column)"
      ],
      "execution_count": 0,
      "outputs": []
    },
    {
      "cell_type": "code",
      "metadata": {
        "id": "3qty7ZCsLtkE",
        "colab_type": "code",
        "colab": {}
      },
      "source": [
        "def melt_demographics(df, id_variables):\n",
        "  demographics = df.melt(id_vars=id_variables ,value_vars=['Total', 'Age', 'Social Grade', 'Region'])\n",
        "  return demographics"
      ],
      "execution_count": 0,
      "outputs": []
    },
    {
      "cell_type": "code",
      "metadata": {
        "id": "JE1qtP5QEmi9",
        "colab_type": "code",
        "colab": {}
      },
      "source": [
        "pineapple_demographics = melt_demographics(pineapple_fixed_columns, pineapple_new_indexes)\n",
        "pick_demographics = melt_demographics(pick_fixed_columns, pick_ban_new_index)\n",
        "ban_demographics = melt_demographics(ban_fixed_columns, pick_ban_new_index)"
      ],
      "execution_count": 0,
      "outputs": []
    },
    {
      "cell_type": "code",
      "metadata": {
        "id": "LK6FFknUGBkx",
        "colab_type": "code",
        "outputId": "c3ea011e-2b5a-4993-effd-cfd987af3f15",
        "colab": {
          "base_uri": "https://localhost:8080/",
          "height": 195
        }
      },
      "source": [
        "ban_demographics.head()"
      ],
      "execution_count": 0,
      "outputs": [
        {
          "output_type": "execute_result",
          "data": {
            "text/html": [
              "<div>\n",
              "<style scoped>\n",
              "    .dataframe tbody tr th:only-of-type {\n",
              "        vertical-align: middle;\n",
              "    }\n",
              "\n",
              "    .dataframe tbody tr th {\n",
              "        vertical-align: top;\n",
              "    }\n",
              "\n",
              "    .dataframe thead th {\n",
              "        text-align: right;\n",
              "    }\n",
              "</style>\n",
              "<table border=\"1\" class=\"dataframe\">\n",
              "  <thead>\n",
              "    <tr style=\"text-align: right;\">\n",
              "      <th></th>\n",
              "      <th>Response</th>\n",
              "      <th>variable_0</th>\n",
              "      <th>variable_1</th>\n",
              "      <th>value</th>\n",
              "    </tr>\n",
              "  </thead>\n",
              "  <tbody>\n",
              "    <tr>\n",
              "      <th>0</th>\n",
              "      <td>Anchovies</td>\n",
              "      <td>Total</td>\n",
              "      <td>Total</td>\n",
              "      <td>35</td>\n",
              "    </tr>\n",
              "    <tr>\n",
              "      <th>1</th>\n",
              "      <td>Olives</td>\n",
              "      <td>Total</td>\n",
              "      <td>Total</td>\n",
              "      <td>20</td>\n",
              "    </tr>\n",
              "    <tr>\n",
              "      <th>2</th>\n",
              "      <td>Tuna</td>\n",
              "      <td>Total</td>\n",
              "      <td>Total</td>\n",
              "      <td>19</td>\n",
              "    </tr>\n",
              "    <tr>\n",
              "      <th>3</th>\n",
              "      <td>Jalapeños</td>\n",
              "      <td>Total</td>\n",
              "      <td>Total</td>\n",
              "      <td>16</td>\n",
              "    </tr>\n",
              "    <tr>\n",
              "      <th>4</th>\n",
              "      <td>Pineapple</td>\n",
              "      <td>Total</td>\n",
              "      <td>Total</td>\n",
              "      <td>15</td>\n",
              "    </tr>\n",
              "  </tbody>\n",
              "</table>\n",
              "</div>"
            ],
            "text/plain": [
              "    Response variable_0 variable_1  value\n",
              "0  Anchovies      Total      Total     35\n",
              "1     Olives      Total      Total     20\n",
              "2       Tuna      Total      Total     19\n",
              "3  Jalapeños      Total      Total     16\n",
              "4  Pineapple      Total      Total     15"
            ]
          },
          "metadata": {
            "tags": []
          },
          "execution_count": 59
        }
      ]
    },
    {
      "cell_type": "code",
      "metadata": {
        "id": "fXE4ph7u5kPH",
        "colab_type": "code",
        "colab": {}
      },
      "source": [
        "pineapple_demographics.to_csv('pineapple.csv')\n",
        "pick_demographics.to_csv('pick.csv')\n",
        "ban_demographics.to_csv('ban.csv')"
      ],
      "execution_count": 0,
      "outputs": []
    }
  ]
}